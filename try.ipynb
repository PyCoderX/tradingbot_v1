{
 "cells": [
  {
   "cell_type": "markdown",
   "metadata": {},
   "source": [
    "# TestRun\n"
   ]
  },
  {
   "cell_type": "markdown",
   "metadata": {},
   "source": [
    "### initialization of telegram bot and Fyers Client\n"
   ]
  },
  {
   "cell_type": "code",
   "execution_count": 6,
   "metadata": {},
   "outputs": [
    {
     "data": {
      "text/plain": [
       "'eyJ0eXAiOiJKV1QiLCJhbGciOiJIUzI1NiJ9.eyJpc3MiOiJhcGkuZnllcnMuaW4iLCJpYXQiOjE2OTk5NDc0ODcsImV4cCI6MTcwMDAwODIwNywibmJmIjoxNjk5OTQ3NDg3LCJhdWQiOlsieDowIiwieDoxIiwieDoyIiwiZDoxIiwiZDoyIiwieDoxIiwieDowIl0sInN1YiI6ImFjY2Vzc190b2tlbiIsImF0X2hhc2giOiJnQUFBQUFCbFV5UGZBQWoyamI4R1VZWW15QXJ4Y1V2ZWNBdkJOZFRha295WjhEVEhvWEN0V2FyY0hhWENQcno1aU1wNXVCbTlYeW9QRU53VERQZ0l6amtWX1ZGMWE2NThGa0xxeTF2Mm9tZ0NTb3dtNWxVR3lTQT0iLCJkaXNwbGF5X25hbWUiOiJTVUJIQUpJVCBCSEFSIiwib21zIjoiSzEiLCJoc21fa2V5IjoiYTA2YTBiNmI3ZmQ1MDliMzVlNDNhMGQyOWU3N2MxMzI4Yjg4YzhjNTI1MWZiMGM1MjAwYzhlOWQiLCJmeV9pZCI6IlhTNDYzMDEiLCJhcHBUeXBlIjoxMDAsInBvYV9mbGFnIjoiTiJ9.0NX5IAxMv5jRbiiWQYOyqeBxS8WJKO2QzdQNGSD3xXk'"
      ]
     },
     "execution_count": 6,
     "metadata": {},
     "output_type": "execute_result"
    }
   ],
   "source": [
    "from pathlib import Path\n",
    "import instances\n",
    "\n",
    "# * Set log and data directory\n",
    "log_dir = Path.joinpath(Path.cwd(), \"log\")\n",
    "data_dir = Path.joinpath(Path.cwd(), \"data\")\n",
    "\n",
    "for dir in [log_dir, data_dir]:\n",
    "    Path.mkdir(dir, exist_ok=True)\n",
    "\n",
    "# * initialize telegram Bot and Fyers API\n",
    "teleBot, FyersClient = instances.get_instance(logdir=log_dir)\n",
    "FyersClient.access_token"
   ]
  },
  {
   "cell_type": "markdown",
   "metadata": {},
   "source": [
    "### is Holiday? | is weekend?\n"
   ]
  },
  {
   "cell_type": "code",
   "execution_count": 9,
   "metadata": {},
   "outputs": [
    {
     "data": {
      "text/plain": [
       "True"
      ]
     },
     "execution_count": 9,
     "metadata": {},
     "output_type": "execute_result"
    }
   ],
   "source": [
    "import datetime\n",
    "from nseapi import NSEAPI\n",
    "import pandas as pd\n",
    "import sys\n",
    "\n",
    "today = datetime.datetime.now().date()\n",
    "\n",
    "# * initialize NSE API\n",
    "nse = NSEAPI()\n",
    "\n",
    "# * get list of holidays from NSE\n",
    "list_of_holidays = pd.DataFrame.from_records(nse.get_holidays.get(\"CM\"))\n",
    "off_days = list_of_holidays.tradingDate.to_list()\n",
    "\n",
    "# ? check if today is trading holiday or not\n",
    "\n",
    "is_offDay: bool = today.strftime(\"%d-%b-%Y\") in off_days or today.weekday() in {5, 6}\n",
    "if is_offDay:\n",
    "    teleBot.sendMessage(\n",
    "        \"Today is a designated non-trading day. We recommend shutting down the system.\"\n",
    "    )\n",
    "    if sys.platform == \"linux\":\n",
    "        time.sleep(120)\n",
    "        os.system(\"shutdown -h now\")\n",
    "        time.sleep(10)\n",
    "\n",
    "is_offDay"
   ]
  },
  {
   "cell_type": "code",
   "execution_count": 10,
   "metadata": {},
   "outputs": [
    {
     "data": {
      "text/plain": [
       "1"
      ]
     },
     "execution_count": 10,
     "metadata": {},
     "output_type": "execute_result"
    }
   ],
   "source": [
    "from subprocess import call\n",
    "\n",
    "call([\"python\", \"testrun.py\"])"
   ]
  }
 ],
 "metadata": {
  "kernelspec": {
   "display_name": "tradingbot_v1-7pwLZGeE",
   "language": "python",
   "name": "python3"
  },
  "language_info": {
   "codemirror_mode": {
    "name": "ipython",
    "version": 3
   },
   "file_extension": ".py",
   "mimetype": "text/x-python",
   "name": "python",
   "nbconvert_exporter": "python",
   "pygments_lexer": "ipython3",
   "version": "3.10.0"
  }
 },
 "nbformat": 4,
 "nbformat_minor": 2
}
